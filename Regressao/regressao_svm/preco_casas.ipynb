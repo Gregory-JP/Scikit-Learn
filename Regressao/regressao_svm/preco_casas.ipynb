{
 "cells": [
  {
   "cell_type": "code",
   "execution_count": 1,
   "id": "979b520f",
   "metadata": {},
   "outputs": [],
   "source": [
    "import pandas as pd"
   ]
  },
  {
   "cell_type": "code",
   "execution_count": 2,
   "id": "c24482ed",
   "metadata": {},
   "outputs": [],
   "source": [
    "df = pd.read_csv('../../BasesDados/house_prices.csv')"
   ]
  },
  {
   "cell_type": "code",
   "execution_count": 3,
   "id": "24c05bb6",
   "metadata": {},
   "outputs": [
    {
     "data": {
      "text/plain": [
       "array([[ 3.00000e+00,  1.00000e+00,  1.18000e+03, ...,  9.81780e+04,\n",
       "         4.75112e+01, -1.22257e+02],\n",
       "       [ 3.00000e+00,  2.25000e+00,  2.57000e+03, ...,  9.81250e+04,\n",
       "         4.77210e+01, -1.22319e+02],\n",
       "       [ 2.00000e+00,  1.00000e+00,  7.70000e+02, ...,  9.80280e+04,\n",
       "         4.77379e+01, -1.22233e+02],\n",
       "       ...,\n",
       "       [ 2.00000e+00,  7.50000e-01,  1.02000e+03, ...,  9.81440e+04,\n",
       "         4.75944e+01, -1.22299e+02],\n",
       "       [ 3.00000e+00,  2.50000e+00,  1.60000e+03, ...,  9.80270e+04,\n",
       "         4.75345e+01, -1.22069e+02],\n",
       "       [ 2.00000e+00,  7.50000e-01,  1.02000e+03, ...,  9.81440e+04,\n",
       "         4.75941e+01, -1.22299e+02]])"
      ]
     },
     "execution_count": 3,
     "metadata": {},
     "output_type": "execute_result"
    }
   ],
   "source": [
    "x_casas = df.iloc[:, 3:19].values\n",
    "x_casas"
   ]
  },
  {
   "cell_type": "code",
   "execution_count": 4,
   "id": "f62c2b34",
   "metadata": {},
   "outputs": [
    {
     "data": {
      "text/plain": [
       "array([221900., 538000., 180000., ..., 402101., 400000., 325000.])"
      ]
     },
     "execution_count": 4,
     "metadata": {},
     "output_type": "execute_result"
    }
   ],
   "source": [
    "y_casas = df.iloc[:, 2].values\n",
    "y_casas # preco das casas"
   ]
  },
  {
   "cell_type": "code",
   "execution_count": 5,
   "id": "a8f840bc",
   "metadata": {},
   "outputs": [],
   "source": [
    "from sklearn.model_selection import train_test_split"
   ]
  },
  {
   "cell_type": "code",
   "execution_count": 6,
   "id": "0b2a9d41",
   "metadata": {},
   "outputs": [],
   "source": [
    "x_treinamento, x_teste, y_treinamento, y_teste = train_test_split(x_casas, y_casas, test_size=0.3, random_state=0)"
   ]
  },
  {
   "cell_type": "code",
   "execution_count": 7,
   "id": "d622e520",
   "metadata": {},
   "outputs": [
    {
     "data": {
      "text/plain": [
       "(15129, 16)"
      ]
     },
     "execution_count": 7,
     "metadata": {},
     "output_type": "execute_result"
    }
   ],
   "source": [
    "x_treinamento.shape"
   ]
  },
  {
   "cell_type": "code",
   "execution_count": 8,
   "id": "b3bee997",
   "metadata": {},
   "outputs": [
    {
     "data": {
      "text/plain": [
       "array([[ 4.00000e+00,  1.50000e+00,  1.39000e+03, ...,  9.81330e+04,\n",
       "         4.77224e+01, -1.22332e+02],\n",
       "       [ 3.00000e+00,  1.50000e+00,  1.45000e+03, ...,  9.81330e+04,\n",
       "         4.77725e+01, -1.22349e+02],\n",
       "       [ 5.00000e+00,  2.75000e+00,  2.86000e+03, ...,  9.80520e+04,\n",
       "         4.77082e+01, -1.22104e+02],\n",
       "       ...,\n",
       "       [ 3.00000e+00,  2.25000e+00,  2.36000e+03, ...,  9.80420e+04,\n",
       "         4.73856e+01, -1.22158e+02],\n",
       "       [ 4.00000e+00,  2.00000e+00,  2.37000e+03, ...,  9.80010e+04,\n",
       "         4.72831e+01, -1.22279e+02],\n",
       "       [ 4.00000e+00,  2.25000e+00,  2.38000e+03, ...,  9.80080e+04,\n",
       "         4.76126e+01, -1.22120e+02]])"
      ]
     },
     "execution_count": 8,
     "metadata": {},
     "output_type": "execute_result"
    }
   ],
   "source": [
    "x_treinamento"
   ]
  },
  {
   "cell_type": "code",
   "execution_count": 9,
   "id": "c9220e54",
   "metadata": {},
   "outputs": [
    {
     "data": {
      "text/plain": [
       "array([400000., 430000., 720000., ..., 431000., 411000., 699900.])"
      ]
     },
     "execution_count": 9,
     "metadata": {},
     "output_type": "execute_result"
    }
   ],
   "source": [
    "y_treinamento"
   ]
  },
  {
   "cell_type": "code",
   "execution_count": 10,
   "id": "dc58de2c",
   "metadata": {},
   "outputs": [
    {
     "data": {
      "text/plain": [
       "(6484, 16)"
      ]
     },
     "execution_count": 10,
     "metadata": {},
     "output_type": "execute_result"
    }
   ],
   "source": [
    "x_teste.shape"
   ]
  },
  {
   "cell_type": "code",
   "execution_count": 11,
   "id": "53d52045",
   "metadata": {},
   "outputs": [],
   "source": [
    "from sklearn.preprocessing import StandardScaler"
   ]
  },
  {
   "cell_type": "code",
   "execution_count": 12,
   "id": "80826c89",
   "metadata": {},
   "outputs": [],
   "source": [
    "scaler_x = StandardScaler()\n",
    "x_treinameto_scaled = scaler_x.fit_transform(x_treinamento)"
   ]
  },
  {
   "cell_type": "code",
   "execution_count": 34,
   "id": "8d4aaa37",
   "metadata": {},
   "outputs": [],
   "source": [
    "scaler_y = StandardScaler()\n",
    "y_treinamento_scaled = scaler_y.fit_transform(y_treinamento.reshape(-1, 1))"
   ]
  },
  {
   "cell_type": "code",
   "execution_count": 35,
   "id": "aeb2781c",
   "metadata": {},
   "outputs": [
    {
     "data": {
      "text/plain": [
       "array([[ 0.67170039, -0.79711466, -0.74522967, ...,  1.03727271,\n",
       "         1.17348387, -0.83797629],\n",
       "       [-0.38696772, -0.79711466, -0.68028398, ...,  1.03727271,\n",
       "         1.53476983, -0.95879989],\n",
       "       [ 1.7303685 ,  0.82292131,  0.84593978, ..., -0.48008241,\n",
       "         1.07108346,  0.78248142],\n",
       "       ...,\n",
       "       [-0.38696772,  0.17490692,  0.30472568, ..., -0.66741021,\n",
       "        -1.25528083,  0.3986888 ],\n",
       "       [ 0.67170039, -0.14910028,  0.31554996, ..., -1.43545415,\n",
       "        -1.99443873, -0.46129094],\n",
       "       [ 0.67170039,  0.17490692,  0.32637425, ..., -1.3043247 ,\n",
       "         0.38168351,  0.66876509]])"
      ]
     },
     "execution_count": 35,
     "metadata": {},
     "output_type": "execute_result"
    }
   ],
   "source": [
    "x_treinameto_scaled"
   ]
  },
  {
   "cell_type": "code",
   "execution_count": 36,
   "id": "b4380107",
   "metadata": {},
   "outputs": [
    {
     "data": {
      "text/plain": [
       "array([[-0.38454326],\n",
       "       [-0.3024967 ],\n",
       "       [ 0.49062008],\n",
       "       ...,\n",
       "       [-0.29976181],\n",
       "       [-0.35445952],\n",
       "       [ 0.43564888]])"
      ]
     },
     "execution_count": 36,
     "metadata": {},
     "output_type": "execute_result"
    }
   ],
   "source": [
    "y_treinamento_scaled"
   ]
  },
  {
   "cell_type": "code",
   "execution_count": 37,
   "id": "0b3ea14e",
   "metadata": {},
   "outputs": [],
   "source": [
    "x_teste_scaled = scaler_x.transform(x_teste)"
   ]
  },
  {
   "cell_type": "code",
   "execution_count": 38,
   "id": "97260f88",
   "metadata": {},
   "outputs": [],
   "source": [
    "y_teste_scaled = scaler_y.transform(y_teste.reshape(-1, 1))"
   ]
  },
  {
   "cell_type": "code",
   "execution_count": 39,
   "id": "c60f5981",
   "metadata": {},
   "outputs": [
    {
     "data": {
      "text/plain": [
       "array([[-1.54541664, -0.80087846, -0.72129133, ...,  0.86153518,\n",
       "         1.16602473, -0.54260791],\n",
       "       [ 0.68905353,  1.48142652,  2.85638133, ..., -1.36981856,\n",
       "         0.53550005,  0.35029279],\n",
       "       [-1.54541664, -1.77900916, -0.71024913, ...,  0.52683212,\n",
       "         0.79363917, -1.06700991],\n",
       "       ...,\n",
       "       [-0.42818155,  0.50329582,  0.07374704, ..., -0.38430399,\n",
       "        -0.79207257,  0.8817813 ],\n",
       "       [-0.42818155, -0.47483489, -0.66608033, ..., -0.86776397,\n",
       "        -1.41175108, -0.47174278],\n",
       "       [-0.42818155, -1.45296559, -0.84275552, ...,  0.2479129 ,\n",
       "        -1.80004438,  0.21564903]])"
      ]
     },
     "execution_count": 39,
     "metadata": {},
     "output_type": "execute_result"
    }
   ],
   "source": [
    "x_teste_scaled"
   ]
  },
  {
   "cell_type": "code",
   "execution_count": 40,
   "id": "6a3c211b",
   "metadata": {},
   "outputs": [
    {
     "data": {
      "text/plain": [
       "array([[-0.38454326],\n",
       "       [-0.3024967 ],\n",
       "       [ 0.49062008],\n",
       "       ...,\n",
       "       [-0.29976181],\n",
       "       [-0.35445952],\n",
       "       [ 0.43564888]])"
      ]
     },
     "execution_count": 40,
     "metadata": {},
     "output_type": "execute_result"
    }
   ],
   "source": [
    "y_treinamento_scaled"
   ]
  },
  {
   "cell_type": "code",
   "execution_count": 41,
   "id": "40308139",
   "metadata": {},
   "outputs": [],
   "source": [
    "from sklearn.svm import SVR"
   ]
  },
  {
   "cell_type": "code",
   "execution_count": 42,
   "id": "e6fe8582",
   "metadata": {},
   "outputs": [],
   "source": [
    "regressor_svr = SVR(kernel='rbf')"
   ]
  },
  {
   "cell_type": "code",
   "execution_count": 43,
   "id": "2f0a0e73",
   "metadata": {},
   "outputs": [
    {
     "data": {
      "text/plain": [
       "SVR()"
      ]
     },
     "execution_count": 43,
     "metadata": {},
     "output_type": "execute_result"
    }
   ],
   "source": [
    "regressor_svr.fit(x_treinameto_scaled, y_treinamento_scaled.ravel())"
   ]
  },
  {
   "cell_type": "code",
   "execution_count": 44,
   "id": "e945f00d",
   "metadata": {},
   "outputs": [
    {
     "data": {
      "text/plain": [
       "0.8123337393146999"
      ]
     },
     "execution_count": 44,
     "metadata": {},
     "output_type": "execute_result"
    }
   ],
   "source": [
    "regressor_svr.score(x_treinameto_scaled, y_treinamento_scaled)"
   ]
  },
  {
   "cell_type": "code",
   "execution_count": 45,
   "id": "a95adb3d",
   "metadata": {},
   "outputs": [
    {
     "data": {
      "text/plain": [
       "0.7324752727127994"
      ]
     },
     "execution_count": 45,
     "metadata": {},
     "output_type": "execute_result"
    }
   ],
   "source": [
    "regressor_svr.score(x_teste_scaled, y_teste_scaled)"
   ]
  },
  {
   "cell_type": "code",
   "execution_count": 46,
   "id": "729a0a2f",
   "metadata": {},
   "outputs": [
    {
     "data": {
      "text/plain": [
       "array([-0.54877296,  3.48844091,  0.01692247, ..., -0.43360248,\n",
       "       -0.92110462, -1.041454  ])"
      ]
     },
     "execution_count": 46,
     "metadata": {},
     "output_type": "execute_result"
    }
   ],
   "source": [
    "previsoes = regressor_svr.predict(x_teste_scaled)\n",
    "previsoes"
   ]
  },
  {
   "cell_type": "code",
   "execution_count": 47,
   "id": "6e10688a",
   "metadata": {},
   "outputs": [
    {
     "data": {
      "text/plain": [
       "array([[-0.66623646],\n",
       "       [ 2.83715179],\n",
       "       [ 0.05878167],\n",
       "       ...,\n",
       "       [-0.43924097],\n",
       "       [-0.74554814],\n",
       "       [-0.91511104]])"
      ]
     },
     "execution_count": 47,
     "metadata": {},
     "output_type": "execute_result"
    }
   ],
   "source": [
    "y_teste_scaled"
   ]
  },
  {
   "cell_type": "code",
   "execution_count": 48,
   "id": "28af11dd",
   "metadata": {},
   "outputs": [],
   "source": [
    "y_teste_inverse = scaler_y.inverse_transform(y_teste_scaled)"
   ]
  },
  {
   "cell_type": "code",
   "execution_count": 49,
   "id": "c520ef3d",
   "metadata": {},
   "outputs": [],
   "source": [
    "previsoes_inverse = scaler_y.inverse_transform(previsoes)"
   ]
  },
  {
   "cell_type": "code",
   "execution_count": 51,
   "id": "89ab7387",
   "metadata": {},
   "outputs": [
    {
     "data": {
      "text/plain": [
       "array([ 339950.06266286, 1816141.28064881,  546794.34915876, ...,\n",
       "        382061.69313617,  203808.47062383,  159803.19888544])"
      ]
     },
     "execution_count": 51,
     "metadata": {},
     "output_type": "execute_result"
    }
   ],
   "source": [
    "previsoes_inverse"
   ]
  },
  {
   "cell_type": "code",
   "execution_count": 52,
   "id": "26ec2c27",
   "metadata": {},
   "outputs": [
    {
     "data": {
      "text/plain": [
       "array([[ 297000.],\n",
       "       [1578000.],\n",
       "       [ 562100.],\n",
       "       ...,\n",
       "       [ 380000.],\n",
       "       [ 268000.],\n",
       "       [ 206000.]])"
      ]
     },
     "execution_count": 52,
     "metadata": {},
     "output_type": "execute_result"
    }
   ],
   "source": [
    "y_teste_inverse"
   ]
  },
  {
   "cell_type": "code",
   "execution_count": 53,
   "id": "533962a3",
   "metadata": {},
   "outputs": [],
   "source": [
    "from sklearn.metrics import mean_absolute_error"
   ]
  },
  {
   "cell_type": "code",
   "execution_count": 57,
   "id": "cc73e792",
   "metadata": {},
   "outputs": [
    {
     "data": {
      "text/plain": [
       "82994.53974348487"
      ]
     },
     "execution_count": 57,
     "metadata": {},
     "output_type": "execute_result"
    }
   ],
   "source": [
    "mean_absolute_error(y_teste_inverse, previsoes_inverse)"
   ]
  },
  {
   "cell_type": "code",
   "execution_count": null,
   "id": "2a70806c",
   "metadata": {},
   "outputs": [],
   "source": []
  }
 ],
 "metadata": {
  "kernelspec": {
   "display_name": "Python 3 (ipykernel)",
   "language": "python",
   "name": "python3"
  },
  "language_info": {
   "codemirror_mode": {
    "name": "ipython",
    "version": 3
   },
   "file_extension": ".py",
   "mimetype": "text/x-python",
   "name": "python",
   "nbconvert_exporter": "python",
   "pygments_lexer": "ipython3",
   "version": "3.9.7"
  }
 },
 "nbformat": 4,
 "nbformat_minor": 5
}
