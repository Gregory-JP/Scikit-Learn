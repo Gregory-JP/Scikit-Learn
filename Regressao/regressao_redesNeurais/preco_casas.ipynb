{
 "cells": [
  {
   "cell_type": "code",
   "execution_count": 1,
   "id": "15ed5ad1",
   "metadata": {},
   "outputs": [],
   "source": [
    "import pandas as pd"
   ]
  },
  {
   "cell_type": "code",
   "execution_count": 2,
   "id": "b41ca622",
   "metadata": {},
   "outputs": [],
   "source": [
    "df = pd.read_csv('../../BasesDados/house_prices.csv')"
   ]
  },
  {
   "cell_type": "code",
   "execution_count": 3,
   "id": "6f8f8f03",
   "metadata": {},
   "outputs": [
    {
     "data": {
      "text/plain": [
       "array([[ 3.00000e+00,  1.00000e+00,  1.18000e+03, ...,  9.81780e+04,\n",
       "         4.75112e+01, -1.22257e+02],\n",
       "       [ 3.00000e+00,  2.25000e+00,  2.57000e+03, ...,  9.81250e+04,\n",
       "         4.77210e+01, -1.22319e+02],\n",
       "       [ 2.00000e+00,  1.00000e+00,  7.70000e+02, ...,  9.80280e+04,\n",
       "         4.77379e+01, -1.22233e+02],\n",
       "       ...,\n",
       "       [ 2.00000e+00,  7.50000e-01,  1.02000e+03, ...,  9.81440e+04,\n",
       "         4.75944e+01, -1.22299e+02],\n",
       "       [ 3.00000e+00,  2.50000e+00,  1.60000e+03, ...,  9.80270e+04,\n",
       "         4.75345e+01, -1.22069e+02],\n",
       "       [ 2.00000e+00,  7.50000e-01,  1.02000e+03, ...,  9.81440e+04,\n",
       "         4.75941e+01, -1.22299e+02]])"
      ]
     },
     "execution_count": 3,
     "metadata": {},
     "output_type": "execute_result"
    }
   ],
   "source": [
    "x_casas = df.iloc[:, 3:19].values\n",
    "x_casas"
   ]
  },
  {
   "cell_type": "code",
   "execution_count": 4,
   "id": "8699a594",
   "metadata": {},
   "outputs": [
    {
     "data": {
      "text/plain": [
       "array([221900., 538000., 180000., ..., 402101., 400000., 325000.])"
      ]
     },
     "execution_count": 4,
     "metadata": {},
     "output_type": "execute_result"
    }
   ],
   "source": [
    "y_casas = df.iloc[:, 2].values\n",
    "y_casas # preco das casas"
   ]
  },
  {
   "cell_type": "code",
   "execution_count": 5,
   "id": "ac51073e",
   "metadata": {},
   "outputs": [],
   "source": [
    "from sklearn.model_selection import train_test_split"
   ]
  },
  {
   "cell_type": "code",
   "execution_count": 6,
   "id": "45eb62df",
   "metadata": {},
   "outputs": [],
   "source": [
    "x_treinamento, x_teste, y_treinamento, y_teste = train_test_split(x_casas, y_casas, test_size=0.3, random_state=0)"
   ]
  },
  {
   "cell_type": "code",
   "execution_count": 7,
   "id": "b835edd8",
   "metadata": {},
   "outputs": [],
   "source": [
    "from sklearn.preprocessing import StandardScaler"
   ]
  },
  {
   "cell_type": "code",
   "execution_count": 8,
   "id": "86792ec8",
   "metadata": {},
   "outputs": [],
   "source": [
    "scaler_x = StandardScaler()\n",
    "x_treinameto_scaled = scaler_x.fit_transform(x_treinamento)"
   ]
  },
  {
   "cell_type": "code",
   "execution_count": 9,
   "id": "45e8b8af",
   "metadata": {},
   "outputs": [],
   "source": [
    "scaler_y = StandardScaler()\n",
    "y_treinamento_scaled = scaler_y.fit_transform(y_treinamento.reshape(-1, 1))"
   ]
  },
  {
   "cell_type": "code",
   "execution_count": 12,
   "id": "a1b55722",
   "metadata": {},
   "outputs": [
    {
     "data": {
      "text/plain": [
       "(15129, 16)"
      ]
     },
     "execution_count": 12,
     "metadata": {},
     "output_type": "execute_result"
    }
   ],
   "source": [
    "x_treinameto_scaled.shape"
   ]
  },
  {
   "cell_type": "code",
   "execution_count": 13,
   "id": "47f32f98",
   "metadata": {},
   "outputs": [
    {
     "data": {
      "text/plain": [
       "array([[ 0.67170039, -0.79711466, -0.74522967, ...,  1.03727271,\n",
       "         1.17348387, -0.83797629],\n",
       "       [-0.38696772, -0.79711466, -0.68028398, ...,  1.03727271,\n",
       "         1.53476983, -0.95879989],\n",
       "       [ 1.7303685 ,  0.82292131,  0.84593978, ..., -0.48008241,\n",
       "         1.07108346,  0.78248142],\n",
       "       ...,\n",
       "       [-0.38696772,  0.17490692,  0.30472568, ..., -0.66741021,\n",
       "        -1.25528083,  0.3986888 ],\n",
       "       [ 0.67170039, -0.14910028,  0.31554996, ..., -1.43545415,\n",
       "        -1.99443873, -0.46129094],\n",
       "       [ 0.67170039,  0.17490692,  0.32637425, ..., -1.3043247 ,\n",
       "         0.38168351,  0.66876509]])"
      ]
     },
     "execution_count": 13,
     "metadata": {},
     "output_type": "execute_result"
    }
   ],
   "source": [
    "x_treinameto_scaled"
   ]
  },
  {
   "cell_type": "code",
   "execution_count": 14,
   "id": "5573d0a1",
   "metadata": {},
   "outputs": [
    {
     "data": {
      "text/plain": [
       "(15129, 1)"
      ]
     },
     "execution_count": 14,
     "metadata": {},
     "output_type": "execute_result"
    }
   ],
   "source": [
    "y_treinamento_scaled.shape"
   ]
  },
  {
   "cell_type": "code",
   "execution_count": 15,
   "id": "360ba6c7",
   "metadata": {},
   "outputs": [
    {
     "data": {
      "text/plain": [
       "array([[-0.38454326],\n",
       "       [-0.3024967 ],\n",
       "       [ 0.49062008],\n",
       "       ...,\n",
       "       [-0.29976181],\n",
       "       [-0.35445952],\n",
       "       [ 0.43564888]])"
      ]
     },
     "execution_count": 15,
     "metadata": {},
     "output_type": "execute_result"
    }
   ],
   "source": [
    "y_treinamento_scaled"
   ]
  },
  {
   "cell_type": "code",
   "execution_count": 16,
   "id": "4ed77133",
   "metadata": {},
   "outputs": [],
   "source": [
    "x_teste_scaled = scaler_x.transform(x_teste)"
   ]
  },
  {
   "cell_type": "code",
   "execution_count": 17,
   "id": "53c071dd",
   "metadata": {},
   "outputs": [],
   "source": [
    "y_teste_scaled = scaler_y.transform(y_teste.reshape(-1, 1))"
   ]
  },
  {
   "cell_type": "code",
   "execution_count": 18,
   "id": "561cb68b",
   "metadata": {},
   "outputs": [
    {
     "data": {
      "text/plain": [
       "(6484, 16)"
      ]
     },
     "execution_count": 18,
     "metadata": {},
     "output_type": "execute_result"
    }
   ],
   "source": [
    "x_teste_scaled.shape"
   ]
  },
  {
   "cell_type": "code",
   "execution_count": 19,
   "id": "dc618214",
   "metadata": {},
   "outputs": [
    {
     "data": {
      "text/plain": [
       "(6484, 1)"
      ]
     },
     "execution_count": 19,
     "metadata": {},
     "output_type": "execute_result"
    }
   ],
   "source": [
    "y_teste_scaled.shape"
   ]
  },
  {
   "cell_type": "code",
   "execution_count": 20,
   "id": "1aa4e776",
   "metadata": {},
   "outputs": [],
   "source": [
    "from sklearn.neural_network import MLPRegressor"
   ]
  },
  {
   "cell_type": "code",
   "execution_count": 22,
   "id": "deb9f19c",
   "metadata": {},
   "outputs": [],
   "source": [
    "# (16 + 1) / 2 = 8.5, arredondamento pra 9\n",
    "\n",
    "# 16 -> 9 -> 9 -> 1\n",
    "regressor_rn = MLPRegressor(max_iter=1000, hidden_layer_sizes=(9,9))"
   ]
  },
  {
   "cell_type": "code",
   "execution_count": 24,
   "id": "9c64e749",
   "metadata": {},
   "outputs": [
    {
     "data": {
      "text/plain": [
       "MLPRegressor(hidden_layer_sizes=(9, 9), max_iter=1000)"
      ]
     },
     "execution_count": 24,
     "metadata": {},
     "output_type": "execute_result"
    }
   ],
   "source": [
    "regressor_rn.fit(x_treinameto_scaled, y_treinamento_scaled.ravel())"
   ]
  },
  {
   "cell_type": "code",
   "execution_count": 25,
   "id": "453f844b",
   "metadata": {},
   "outputs": [
    {
     "data": {
      "text/plain": [
       "0.9028333384578455"
      ]
     },
     "execution_count": 25,
     "metadata": {},
     "output_type": "execute_result"
    }
   ],
   "source": [
    "regressor_rn.score(x_treinameto_scaled, y_treinamento_scaled)"
   ]
  },
  {
   "cell_type": "code",
   "execution_count": 26,
   "id": "be5ed778",
   "metadata": {},
   "outputs": [
    {
     "data": {
      "text/plain": [
       "0.8905780033662031"
      ]
     },
     "execution_count": 26,
     "metadata": {},
     "output_type": "execute_result"
    }
   ],
   "source": [
    "regressor_rn.score(x_teste_scaled, y_teste_scaled)"
   ]
  },
  {
   "cell_type": "code",
   "execution_count": 27,
   "id": "c073ebb2",
   "metadata": {},
   "outputs": [],
   "source": [
    "previsoes = regressor_rn.predict(x_teste_scaled)"
   ]
  },
  {
   "cell_type": "code",
   "execution_count": 28,
   "id": "96b9e59e",
   "metadata": {},
   "outputs": [
    {
     "data": {
      "text/plain": [
       "array([-0.59953291,  3.58195099, -0.03587205, ..., -0.54152411,\n",
       "       -0.84675476, -0.89057828])"
      ]
     },
     "execution_count": 28,
     "metadata": {},
     "output_type": "execute_result"
    }
   ],
   "source": [
    "previsoes"
   ]
  },
  {
   "cell_type": "code",
   "execution_count": 29,
   "id": "93ca7ce8",
   "metadata": {},
   "outputs": [
    {
     "data": {
      "text/plain": [
       "array([[-0.66623646],\n",
       "       [ 2.83715179],\n",
       "       [ 0.05878167],\n",
       "       ...,\n",
       "       [-0.43924097],\n",
       "       [-0.74554814],\n",
       "       [-0.91511104]])"
      ]
     },
     "execution_count": 29,
     "metadata": {},
     "output_type": "execute_result"
    }
   ],
   "source": [
    "y_teste_scaled"
   ]
  },
  {
   "cell_type": "code",
   "execution_count": 30,
   "id": "1d40f0cf",
   "metadata": {},
   "outputs": [],
   "source": [
    "y_teste_inverse = scaler_y.inverse_transform(y_teste_scaled)"
   ]
  },
  {
   "cell_type": "code",
   "execution_count": 31,
   "id": "d5b4211a",
   "metadata": {},
   "outputs": [],
   "source": [
    "previsoes_inverve = scaler_y.inverse_transform(previsoes)"
   ]
  },
  {
   "cell_type": "code",
   "execution_count": 32,
   "id": "8396095b",
   "metadata": {},
   "outputs": [
    {
     "data": {
      "text/plain": [
       "array([ 321389.88790084, 1850332.8677402 ,  527490.24452133, ...,\n",
       "        342600.57503768,  230994.20124068,  214970.30371986])"
      ]
     },
     "execution_count": 32,
     "metadata": {},
     "output_type": "execute_result"
    }
   ],
   "source": [
    "previsoes_inverve # previsto"
   ]
  },
  {
   "cell_type": "code",
   "execution_count": 33,
   "id": "87e2724c",
   "metadata": {},
   "outputs": [
    {
     "data": {
      "text/plain": [
       "array([[ 297000.],\n",
       "       [1578000.],\n",
       "       [ 562100.],\n",
       "       ...,\n",
       "       [ 380000.],\n",
       "       [ 268000.],\n",
       "       [ 206000.]])"
      ]
     },
     "execution_count": 33,
     "metadata": {},
     "output_type": "execute_result"
    }
   ],
   "source": [
    "y_teste_inverse # dado original"
   ]
  },
  {
   "cell_type": "code",
   "execution_count": 34,
   "id": "6a4bc3d0",
   "metadata": {},
   "outputs": [],
   "source": [
    "from sklearn.metrics import mean_absolute_error"
   ]
  },
  {
   "cell_type": "code",
   "execution_count": 35,
   "id": "45ca0d7f",
   "metadata": {},
   "outputs": [
    {
     "data": {
      "text/plain": [
       "73523.27650634765"
      ]
     },
     "execution_count": 35,
     "metadata": {},
     "output_type": "execute_result"
    }
   ],
   "source": [
    "mean_absolute_error(y_teste_inverse, previsoes_inverve)"
   ]
  },
  {
   "cell_type": "code",
   "execution_count": null,
   "id": "c85e3bfc",
   "metadata": {},
   "outputs": [],
   "source": []
  }
 ],
 "metadata": {
  "kernelspec": {
   "display_name": "Python 3 (ipykernel)",
   "language": "python",
   "name": "python3"
  },
  "language_info": {
   "codemirror_mode": {
    "name": "ipython",
    "version": 3
   },
   "file_extension": ".py",
   "mimetype": "text/x-python",
   "name": "python",
   "nbconvert_exporter": "python",
   "pygments_lexer": "ipython3",
   "version": "3.9.7"
  }
 },
 "nbformat": 4,
 "nbformat_minor": 5
}
