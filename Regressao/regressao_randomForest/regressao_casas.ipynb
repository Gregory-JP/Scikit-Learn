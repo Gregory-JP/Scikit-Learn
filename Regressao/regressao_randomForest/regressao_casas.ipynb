{
 "cells": [
  {
   "cell_type": "code",
   "execution_count": 3,
   "id": "f29e7b41",
   "metadata": {},
   "outputs": [],
   "source": [
    "import pandas as pd"
   ]
  },
  {
   "cell_type": "code",
   "execution_count": 4,
   "id": "ac70f9df",
   "metadata": {},
   "outputs": [],
   "source": [
    "df = pd.read_csv('../../BasesDados/house_prices.csv')"
   ]
  },
  {
   "cell_type": "code",
   "execution_count": 5,
   "id": "07c8b524",
   "metadata": {},
   "outputs": [
    {
     "data": {
      "text/plain": [
       "array([[ 3.00000e+00,  1.00000e+00,  1.18000e+03, ...,  9.81780e+04,\n",
       "         4.75112e+01, -1.22257e+02],\n",
       "       [ 3.00000e+00,  2.25000e+00,  2.57000e+03, ...,  9.81250e+04,\n",
       "         4.77210e+01, -1.22319e+02],\n",
       "       [ 2.00000e+00,  1.00000e+00,  7.70000e+02, ...,  9.80280e+04,\n",
       "         4.77379e+01, -1.22233e+02],\n",
       "       ...,\n",
       "       [ 2.00000e+00,  7.50000e-01,  1.02000e+03, ...,  9.81440e+04,\n",
       "         4.75944e+01, -1.22299e+02],\n",
       "       [ 3.00000e+00,  2.50000e+00,  1.60000e+03, ...,  9.80270e+04,\n",
       "         4.75345e+01, -1.22069e+02],\n",
       "       [ 2.00000e+00,  7.50000e-01,  1.02000e+03, ...,  9.81440e+04,\n",
       "         4.75941e+01, -1.22299e+02]])"
      ]
     },
     "execution_count": 5,
     "metadata": {},
     "output_type": "execute_result"
    }
   ],
   "source": [
    "x_casas = df.iloc[:, 3:19].values\n",
    "x_casas"
   ]
  },
  {
   "cell_type": "code",
   "execution_count": 6,
   "id": "d33af2a8",
   "metadata": {},
   "outputs": [
    {
     "data": {
      "text/plain": [
       "array([221900., 538000., 180000., ..., 402101., 400000., 325000.])"
      ]
     },
     "execution_count": 6,
     "metadata": {},
     "output_type": "execute_result"
    }
   ],
   "source": [
    "y_casas = df.iloc[:, 2].values\n",
    "y_casas # preco das casas"
   ]
  },
  {
   "cell_type": "code",
   "execution_count": 7,
   "id": "246fb278",
   "metadata": {},
   "outputs": [],
   "source": [
    "from sklearn.model_selection import train_test_split"
   ]
  },
  {
   "cell_type": "code",
   "execution_count": 8,
   "id": "7362866e",
   "metadata": {},
   "outputs": [],
   "source": [
    "x_treinamento, x_teste, y_treinamento, y_teste = train_test_split(x_casas, y_casas, test_size=0.3, random_state=0)"
   ]
  },
  {
   "cell_type": "code",
   "execution_count": 9,
   "id": "59ce8c50",
   "metadata": {},
   "outputs": [
    {
     "data": {
      "text/plain": [
       "(15129, 16)"
      ]
     },
     "execution_count": 9,
     "metadata": {},
     "output_type": "execute_result"
    }
   ],
   "source": [
    "x_treinamento.shape"
   ]
  },
  {
   "cell_type": "code",
   "execution_count": 10,
   "id": "e4a47265",
   "metadata": {},
   "outputs": [
    {
     "data": {
      "text/plain": [
       "array([[ 4.00000e+00,  1.50000e+00,  1.39000e+03, ...,  9.81330e+04,\n",
       "         4.77224e+01, -1.22332e+02],\n",
       "       [ 3.00000e+00,  1.50000e+00,  1.45000e+03, ...,  9.81330e+04,\n",
       "         4.77725e+01, -1.22349e+02],\n",
       "       [ 5.00000e+00,  2.75000e+00,  2.86000e+03, ...,  9.80520e+04,\n",
       "         4.77082e+01, -1.22104e+02],\n",
       "       ...,\n",
       "       [ 3.00000e+00,  2.25000e+00,  2.36000e+03, ...,  9.80420e+04,\n",
       "         4.73856e+01, -1.22158e+02],\n",
       "       [ 4.00000e+00,  2.00000e+00,  2.37000e+03, ...,  9.80010e+04,\n",
       "         4.72831e+01, -1.22279e+02],\n",
       "       [ 4.00000e+00,  2.25000e+00,  2.38000e+03, ...,  9.80080e+04,\n",
       "         4.76126e+01, -1.22120e+02]])"
      ]
     },
     "execution_count": 10,
     "metadata": {},
     "output_type": "execute_result"
    }
   ],
   "source": [
    "x_treinamento"
   ]
  },
  {
   "cell_type": "code",
   "execution_count": 11,
   "id": "e1b668c0",
   "metadata": {},
   "outputs": [
    {
     "data": {
      "text/plain": [
       "array([400000., 430000., 720000., ..., 431000., 411000., 699900.])"
      ]
     },
     "execution_count": 11,
     "metadata": {},
     "output_type": "execute_result"
    }
   ],
   "source": [
    "y_treinamento"
   ]
  },
  {
   "cell_type": "code",
   "execution_count": 12,
   "id": "dee81bf6",
   "metadata": {},
   "outputs": [
    {
     "data": {
      "text/plain": [
       "(6484, 16)"
      ]
     },
     "execution_count": 12,
     "metadata": {},
     "output_type": "execute_result"
    }
   ],
   "source": [
    "x_teste.shape"
   ]
  },
  {
   "cell_type": "code",
   "execution_count": 13,
   "id": "951ef72b",
   "metadata": {},
   "outputs": [],
   "source": [
    "from sklearn.ensemble import RandomForestRegressor"
   ]
  },
  {
   "cell_type": "code",
   "execution_count": 15,
   "id": "805b55ad",
   "metadata": {},
   "outputs": [],
   "source": [
    "regressor_RF = RandomForestRegressor(n_estimators=100)"
   ]
  },
  {
   "cell_type": "code",
   "execution_count": 16,
   "id": "730a2aa5",
   "metadata": {},
   "outputs": [
    {
     "data": {
      "text/plain": [
       "RandomForestRegressor()"
      ]
     },
     "execution_count": 16,
     "metadata": {},
     "output_type": "execute_result"
    }
   ],
   "source": [
    "regressor_RF.fit(x_treinamento, y_treinamento)"
   ]
  },
  {
   "cell_type": "code",
   "execution_count": 17,
   "id": "7a621b70",
   "metadata": {},
   "outputs": [
    {
     "data": {
      "text/plain": [
       "0.980860710456135"
      ]
     },
     "execution_count": 17,
     "metadata": {},
     "output_type": "execute_result"
    }
   ],
   "source": [
    "regressor_RF.score(x_treinamento, y_treinamento)"
   ]
  },
  {
   "cell_type": "code",
   "execution_count": 18,
   "id": "1d84ae97",
   "metadata": {},
   "outputs": [
    {
     "data": {
      "text/plain": [
       "0.8817286925167306"
      ]
     },
     "execution_count": 18,
     "metadata": {},
     "output_type": "execute_result"
    }
   ],
   "source": [
    "regressor_RF.score(x_teste, y_teste)"
   ]
  },
  {
   "cell_type": "code",
   "execution_count": 19,
   "id": "8207c749",
   "metadata": {},
   "outputs": [],
   "source": [
    "previsoes = regressor_RF.predict(x_teste)"
   ]
  },
  {
   "cell_type": "code",
   "execution_count": 20,
   "id": "efca4ad2",
   "metadata": {},
   "outputs": [
    {
     "data": {
      "text/plain": [
       "array([ 314727.  , 1692427.3 ,  534636.52, ...,  380284.26,  231224.96,\n",
       "        201010.21])"
      ]
     },
     "execution_count": 20,
     "metadata": {},
     "output_type": "execute_result"
    }
   ],
   "source": [
    "previsoes"
   ]
  },
  {
   "cell_type": "code",
   "execution_count": 22,
   "id": "3cf773e8",
   "metadata": {},
   "outputs": [
    {
     "data": {
      "text/plain": [
       "array([ 297000., 1578000.,  562100., ...,  380000.,  268000.,  206000.])"
      ]
     },
     "execution_count": 22,
     "metadata": {},
     "output_type": "execute_result"
    }
   ],
   "source": [
    "y_teste"
   ]
  },
  {
   "cell_type": "code",
   "execution_count": 23,
   "id": "b1114ae1",
   "metadata": {},
   "outputs": [],
   "source": [
    "from sklearn.metrics import mean_absolute_error"
   ]
  },
  {
   "cell_type": "code",
   "execution_count": 24,
   "id": "d161fdb7",
   "metadata": {},
   "outputs": [
    {
     "data": {
      "text/plain": [
       "68041.53689456831"
      ]
     },
     "execution_count": 24,
     "metadata": {},
     "output_type": "execute_result"
    }
   ],
   "source": [
    "mean_absolute_error(y_teste, previsoes)"
   ]
  },
  {
   "cell_type": "code",
   "execution_count": null,
   "id": "8906eec9",
   "metadata": {},
   "outputs": [],
   "source": []
  }
 ],
 "metadata": {
  "kernelspec": {
   "display_name": "Python 3 (ipykernel)",
   "language": "python",
   "name": "python3"
  },
  "language_info": {
   "codemirror_mode": {
    "name": "ipython",
    "version": 3
   },
   "file_extension": ".py",
   "mimetype": "text/x-python",
   "name": "python",
   "nbconvert_exporter": "python",
   "pygments_lexer": "ipython3",
   "version": "3.9.7"
  }
 },
 "nbformat": 4,
 "nbformat_minor": 5
}
