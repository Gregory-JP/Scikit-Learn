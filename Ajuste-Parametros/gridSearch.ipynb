{
 "cells": [
  {
   "cell_type": "code",
   "execution_count": null,
   "id": "4de15e81",
   "metadata": {},
   "outputs": [],
   "source": [
    "# validacao cruzada\n",
    "from sklearn.model_selection import GridSearchCV"
   ]
  },
  {
   "cell_type": "code",
   "execution_count": null,
   "id": "8dab6874",
   "metadata": {},
   "outputs": [],
   "source": [
    "from sklearn.tree import DecisionTreeClassifier\n",
    "from sklearn.ensemble import RandomForestClassifier\n",
    "from sklearn.neighbors import KNeighborsClassifier\n",
    "from sklearn.linear_model import LogisticRegression\n",
    "from sklearn.svm import SVC\n",
    "from sklearn.neural_network import MLPClassifier"
   ]
  },
  {
   "cell_type": "code",
   "execution_count": null,
   "id": "c2b509af",
   "metadata": {},
   "outputs": [],
   "source": [
    "import pickle"
   ]
  },
  {
   "cell_type": "code",
   "execution_count": null,
   "id": "f0d1182c",
   "metadata": {},
   "outputs": [],
   "source": [
    "with open('../BasesDados/credit.pkl', 'rb') as file:\n",
    "    x_treino, y_treino, x_teste, y_teste = pickle.load(file)"
   ]
  },
  {
   "cell_type": "code",
   "execution_count": null,
   "id": "7ae91adf",
   "metadata": {},
   "outputs": [],
   "source": [
    "x_treino.shape, y_treino.shape"
   ]
  },
  {
   "cell_type": "code",
   "execution_count": null,
   "id": "65b02f93",
   "metadata": {},
   "outputs": [],
   "source": [
    "x_teste.shape, y_teste.shape"
   ]
  },
  {
   "cell_type": "code",
   "execution_count": null,
   "id": "b5646395",
   "metadata": {},
   "outputs": [],
   "source": [
    "# na validacao cruzada nao eh necessario dividir as bases de dados em teste\n",
    "# treino, portanto concatenamos elas com o numpy\n",
    "\n",
    "from numpy import concatenate\n",
    "\n",
    "# axis = 0 significa que estamos concatenado as colunas\n",
    "x_credit = concatenate((x_treino, x_teste), axis=0) "
   ]
  },
  {
   "cell_type": "code",
   "execution_count": null,
   "id": "8baf70ec",
   "metadata": {},
   "outputs": [],
   "source": [
    "x_credit.shape"
   ]
  },
  {
   "cell_type": "code",
   "execution_count": null,
   "id": "5b0cb740",
   "metadata": {},
   "outputs": [],
   "source": [
    "y_credit = concatenate((y_treino, y_teste), axis=0)"
   ]
  },
  {
   "cell_type": "code",
   "execution_count": null,
   "id": "fb938ad9",
   "metadata": {},
   "outputs": [],
   "source": [
    "y_credit.shape"
   ]
  },
  {
   "cell_type": "code",
   "execution_count": null,
   "id": "aa0e32fa",
   "metadata": {},
   "outputs": [],
   "source": [
    "y_credit # 0 paga, # 1 nao paga "
   ]
  },
  {
   "cell_type": "markdown",
   "id": "c72616d3",
   "metadata": {},
   "source": [
    "Arvores de decisao"
   ]
  },
  {
   "cell_type": "code",
   "execution_count": null,
   "id": "32bc1ce0",
   "metadata": {},
   "outputs": [],
   "source": [
    "# nomes sao dos paramentros encontrados na documentacao\n",
    "\n",
    "parametros = {'criterion': ['gini', 'entropy'],\n",
    "             'splitter': ['best', 'random'],\n",
    "             'min_samples_split': [2, 5, 10],\n",
    "             'min_samples_leaf': [1, 5, 10]}"
   ]
  },
  {
   "cell_type": "code",
   "execution_count": null,
   "id": "8c3d539c",
   "metadata": {},
   "outputs": [],
   "source": [
    "grid_search = GridSearchCV(estimator=DecisionTreeClassifier(), param_grid=parametros)\n",
    "grid_search.fit(x_credit, y_credit)\n",
    "melhores_parametros = grid_search.best_params_\n",
    "melhor_resultado = grid_search.best_score_"
   ]
  },
  {
   "cell_type": "code",
   "execution_count": null,
   "id": "f7b9ec53",
   "metadata": {},
   "outputs": [],
   "source": [
    "print(melhores_parametros)"
   ]
  },
  {
   "cell_type": "code",
   "execution_count": null,
   "id": "cae8d91b",
   "metadata": {},
   "outputs": [],
   "source": [
    "print(melhor_resultado)"
   ]
  },
  {
   "cell_type": "markdown",
   "id": "3c90cf47",
   "metadata": {},
   "source": [
    "Random Forest"
   ]
  },
  {
   "cell_type": "code",
   "execution_count": null,
   "id": "65b16eb1",
   "metadata": {},
   "outputs": [],
   "source": [
    "parametros_forest = {'criterion': ['gini', 'entropy'],\n",
    "             'n_estimators': [10, 40, 100, 150],\n",
    "             'min_samples_split': [2, 5, 10],\n",
    "             'min_samples_leaf': [1, 5, 10]}"
   ]
  },
  {
   "cell_type": "code",
   "execution_count": null,
   "id": "4e0e66b4",
   "metadata": {},
   "outputs": [],
   "source": [
    "grid_search = GridSearchCV(estimator=RandomForestClassifier(), param_grid=parametros_forest)\n",
    "grid_search.fit(x_credit, y_credit)\n",
    "melhores_parametrosForest = grid_search.best_params_\n",
    "melhor_resultadoForest = grid_search.best_score_"
   ]
  },
  {
   "cell_type": "code",
   "execution_count": null,
   "id": "e77dfd64",
   "metadata": {},
   "outputs": [],
   "source": [
    "print(melhores_parametrosForest)"
   ]
  },
  {
   "cell_type": "code",
   "execution_count": null,
   "id": "6099bfb3",
   "metadata": {},
   "outputs": [],
   "source": [
    "print(melhor_resultadoForest)"
   ]
  },
  {
   "cell_type": "markdown",
   "id": "7675d7ee",
   "metadata": {},
   "source": [
    "KNN"
   ]
  },
  {
   "cell_type": "code",
   "execution_count": null,
   "id": "434d6a4e",
   "metadata": {},
   "outputs": [],
   "source": [
    "parametros_knn = {'n_neighbors': [3, 5, 10, 20, 40],\n",
    "                 'p': [1, 2]}"
   ]
  },
  {
   "cell_type": "code",
   "execution_count": null,
   "id": "b8d599bf",
   "metadata": {},
   "outputs": [],
   "source": [
    "grid_search = GridSearchCV(estimator=KNeighborsClassifier(), param_grid=parametros_knn)\n",
    "grid_search.fit(x_credit, y_credit)\n",
    "melhores_parametrosKnn = grid_search.best_params_\n",
    "melhor_resultadoKnn = grid_search.best_score_"
   ]
  },
  {
   "cell_type": "code",
   "execution_count": null,
   "id": "cb20a12a",
   "metadata": {},
   "outputs": [],
   "source": [
    "print(melhores_parametrosKnn)"
   ]
  },
  {
   "cell_type": "code",
   "execution_count": null,
   "id": "31554d68",
   "metadata": {},
   "outputs": [],
   "source": [
    "print(melhor_resultadoKnn)"
   ]
  },
  {
   "cell_type": "markdown",
   "id": "c4498606",
   "metadata": {},
   "source": [
    "Regressao Logistica"
   ]
  },
  {
   "cell_type": "code",
   "execution_count": null,
   "id": "58b394f0",
   "metadata": {},
   "outputs": [],
   "source": [
    "parametros_rl = {'tol': [0.0001, 0.00001, 0.000001],\n",
    "                'C': [1.0, 1.5, 2.0],\n",
    "                'solver': ['lbfgs', 'sag', 'saga']}"
   ]
  },
  {
   "cell_type": "code",
   "execution_count": null,
   "id": "04717585",
   "metadata": {},
   "outputs": [],
   "source": [
    "grid_search = GridSearchCV(estimator=LogisticRegression(), param_grid=parametros_rl)\n",
    "grid_search.fit(x_credit, y_credit)\n",
    "melhores_parametrosRL = grid_search.best_params_\n",
    "melhor_resultadoRL = grid_search.best_score_"
   ]
  },
  {
   "cell_type": "code",
   "execution_count": null,
   "id": "6e5f0947",
   "metadata": {},
   "outputs": [],
   "source": [
    "print(melhores_parametrosRL)"
   ]
  },
  {
   "cell_type": "code",
   "execution_count": null,
   "id": "dfa27db4",
   "metadata": {},
   "outputs": [],
   "source": [
    "print(melhor_resultadoRL)"
   ]
  },
  {
   "cell_type": "markdown",
   "id": "5621e23b",
   "metadata": {},
   "source": [
    "SVM"
   ]
  },
  {
   "cell_type": "code",
   "execution_count": null,
   "id": "bd23bdb3",
   "metadata": {},
   "outputs": [],
   "source": [
    "parametros_SVM = {'tol': [0.001, 0.0001, 0.00001],\n",
    "                 'C': [1.0, 1.5, 2.0],\n",
    "                 'kernel': ['rbf', 'linear', 'poly', 'sigmoid']}"
   ]
  },
  {
   "cell_type": "code",
   "execution_count": null,
   "id": "87958d17",
   "metadata": {},
   "outputs": [],
   "source": [
    "grid_search = GridSearchCV(estimator=SVC(), param_grid=parametros_SVM)\n",
    "grid_search.fit(x_credit, y_credit)\n",
    "melhores_parametrosSVM = grid_search.best_params_\n",
    "melhor_resultadoSVM = grid_search.best_score_"
   ]
  },
  {
   "cell_type": "code",
   "execution_count": null,
   "id": "3298e28a",
   "metadata": {},
   "outputs": [],
   "source": [
    "print(melhores_parametrosSVM)"
   ]
  },
  {
   "cell_type": "code",
   "execution_count": null,
   "id": "de1a0579",
   "metadata": {},
   "outputs": [],
   "source": [
    "print(melhor_resultadoSVM)"
   ]
  },
  {
   "cell_type": "markdown",
   "id": "219c944b",
   "metadata": {},
   "source": [
    "Redes Neurais"
   ]
  },
  {
   "cell_type": "code",
   "execution_count": null,
   "id": "ff614f48",
   "metadata": {},
   "outputs": [],
   "source": [
    "parametros_RN = {'activation': ['relu', 'logistic', 'tanh'],\n",
    "               'solver': ['adam', 'sgd'],\n",
    "               'batch_size': [10, 56]}"
   ]
  },
  {
   "cell_type": "code",
   "execution_count": null,
   "id": "55d3b2a2",
   "metadata": {},
   "outputs": [],
   "source": [
    "grid_search = GridSearchCV(estimator=MLPClassifier(), param_grid=parametros_RN)\n",
    "grid_search.fit(x_credit, y_credit)\n",
    "melhores_parametrosRN = grid_search.best_params_\n",
    "melhor_resultadoRN = grid_search.best_score_"
   ]
  },
  {
   "cell_type": "code",
   "execution_count": null,
   "id": "b0c4fb7d",
   "metadata": {},
   "outputs": [],
   "source": [
    "print(melhores_parametrosRN)"
   ]
  },
  {
   "cell_type": "code",
   "execution_count": null,
   "id": "2c4ada95",
   "metadata": {},
   "outputs": [],
   "source": [
    "print(melhor_resultadoRN)"
   ]
  },
  {
   "cell_type": "code",
   "execution_count": null,
   "id": "43411fd0",
   "metadata": {},
   "outputs": [],
   "source": []
  }
 ],
 "metadata": {
  "kernelspec": {
   "display_name": "Python 3 (ipykernel)",
   "language": "python",
   "name": "python3"
  },
  "language_info": {
   "codemirror_mode": {
    "name": "ipython",
    "version": 3
   },
   "file_extension": ".py",
   "mimetype": "text/x-python",
   "name": "python",
   "nbconvert_exporter": "python",
   "pygments_lexer": "ipython3",
   "version": "3.9.7"
  }
 },
 "nbformat": 4,
 "nbformat_minor": 5
}
