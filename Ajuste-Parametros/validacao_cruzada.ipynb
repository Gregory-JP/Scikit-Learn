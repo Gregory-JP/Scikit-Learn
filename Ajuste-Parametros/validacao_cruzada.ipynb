{
 "cells": [
  {
   "cell_type": "code",
   "execution_count": 25,
   "id": "21baf221",
   "metadata": {},
   "outputs": [],
   "source": [
    "from sklearn.model_selection import cross_val_score, KFold\n",
    "from sklearn.tree import DecisionTreeClassifier\n",
    "from sklearn.ensemble import RandomForestClassifier\n",
    "from sklearn.neighbors import KNeighborsClassifier\n",
    "from sklearn.linear_model import LogisticRegression\n",
    "from sklearn.svm import SVC\n",
    "from sklearn.neural_network import MLPClassifier"
   ]
  },
  {
   "cell_type": "code",
   "execution_count": 11,
   "id": "9e3e3ac3",
   "metadata": {},
   "outputs": [],
   "source": [
    "import pickle\n",
    "\n",
    "with open('../BasesDados/credit.pkl', 'rb') as file:\n",
    "    x_treino, y_treino, x_teste, y_teste = pickle.load(file)"
   ]
  },
  {
   "cell_type": "code",
   "execution_count": 12,
   "id": "62113f02",
   "metadata": {},
   "outputs": [],
   "source": [
    "from numpy import concatenate"
   ]
  },
  {
   "cell_type": "code",
   "execution_count": 13,
   "id": "3dd6870c",
   "metadata": {},
   "outputs": [],
   "source": [
    "x_credit = concatenate((x_treino, x_teste), axis=0)"
   ]
  },
  {
   "cell_type": "code",
   "execution_count": 14,
   "id": "12927b52",
   "metadata": {},
   "outputs": [],
   "source": [
    "y_credit = concatenate((y_treino, y_teste), axis=0)"
   ]
  },
  {
   "cell_type": "code",
   "execution_count": null,
   "id": "66a68977",
   "metadata": {},
   "outputs": [
    {
     "name": "stderr",
     "output_type": "stream",
     "text": [
      "C:\\Users\\grego\\anaconda3\\lib\\site-packages\\sklearn\\neural_network\\_multilayer_perceptron.py:619: UserWarning: Training interrupted by user.\n",
      "  warnings.warn(\"Training interrupted by user.\")\n",
      "C:\\Users\\grego\\anaconda3\\lib\\site-packages\\sklearn\\neural_network\\_multilayer_perceptron.py:619: UserWarning: Training interrupted by user.\n",
      "  warnings.warn(\"Training interrupted by user.\")\n"
     ]
    }
   ],
   "source": [
    "resultados_arvore = []\n",
    "resultados_randomForest = []\n",
    "resultados_knn = []\n",
    "resultados_logistica = []\n",
    "resultados_svm = []\n",
    "resultados_redeNeural = []\n",
    "\n",
    "for i in range(30):\n",
    "    kfold = KFold(n_splits=10, shuffle=True, random_state=i)\n",
    "    \n",
    "    arvore = DecisionTreeClassifier(criterion='entropy', min_samples_leaf=1, min_samples_split=5, splitter='best')\n",
    "    scores = cross_val_score(arvore, x_credit, y_credit, cv=kfold)\n",
    "    #print(scores)\n",
    "    #print(scores.mean())\n",
    "    resultados_arvore.append(scores.mean())\n",
    "    \n",
    "    random_forest = RandomForestClassifier(criterion='entropy', min_samples_leaf=1, min_samples_split=5, n_estimators=40)\n",
    "    scores = cross_val_score(random_forest, x_credit, y_credit, cv=kfold)\n",
    "    resultados_randomForest.append(scores)\n",
    "    \n",
    "    knn = KNeighborsClassifier(n_neighbors=20, p=1)\n",
    "    scores = cross_val_score(knn, x_credit, y_credit, cv=kfold)\n",
    "    resultados_knn.append(scores)\n",
    "    \n",
    "    logistica = LogisticRegression(C=1.0, solver='lbfgs', tol=0.0001)\n",
    "    scores = cross_val_score(logistica, x_credit, y_credit, cv=kfold)\n",
    "    resultados_logistica.append(scores)\n",
    "    \n",
    "    svm = SVC(C=1.5, kernel='rbf', tol=0.001)\n",
    "    scores = cross_val_score(svm, x_credit, y_credit, cv=kfold)\n",
    "    resultados_svm.append(scores)\n",
    "    \n",
    "    rn = MLPClassifier(activation='relu', batch_size=10, solver='adam')\n",
    "    scores = cross_val_score(rn, x_credit, y_credit, cv=kfold)\n",
    "    resultados_redeNeural.append(scores)\n",
    "    "
   ]
  },
  {
   "cell_type": "code",
   "execution_count": null,
   "id": "e93e83fe",
   "metadata": {},
   "outputs": [],
   "source": []
  }
 ],
 "metadata": {
  "kernelspec": {
   "display_name": "Python 3 (ipykernel)",
   "language": "python",
   "name": "python3"
  },
  "language_info": {
   "codemirror_mode": {
    "name": "ipython",
    "version": 3
   },
   "file_extension": ".py",
   "mimetype": "text/x-python",
   "name": "python",
   "nbconvert_exporter": "python",
   "pygments_lexer": "ipython3",
   "version": "3.9.7"
  }
 },
 "nbformat": 4,
 "nbformat_minor": 5
}
